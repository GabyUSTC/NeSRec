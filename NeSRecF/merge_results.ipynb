{
 "cells": [
  {
   "cell_type": "code",
   "execution_count": 1,
   "metadata": {
    "ExecuteTime": {
     "end_time": "2023-12-23T06:38:17.144463600Z",
     "start_time": "2023-12-23T06:38:17.114065700Z"
    }
   },
   "outputs": [],
   "source": [
    "import os\n",
    "from matplotlib import pyplot as plt\n",
    "import numpy as np"
   ]
  },
  {
   "cell_type": "code",
   "execution_count": 2,
   "metadata": {
    "ExecuteTime": {
     "end_time": "2023-12-23T06:38:17.164092500Z",
     "start_time": "2023-12-23T06:38:17.120567200Z"
    }
   },
   "outputs": [
    {
     "name": "stdout",
     "output_type": "stream",
     "text": [
      "methods ['spill_groundtruth', 'spill_simulation_mf', 'spill_diffnet', 'spill_simulation_diffnet', 'spill_mf', 'spill_gatv2_spill_var2']\n"
     ]
    }
   ],
   "source": [
    "dir = '../metric/group_user_var2_ph_seed0/groundtruth/1.0_0_1000_1_50/ciao100.10.20.70.250.251.010.00.5/'\n",
    "\n",
    "methods = os.listdir(dir)\n",
    "print('methods', methods)\n",
    "all_records = dict([(k, []) for k in methods])\n",
    "valid_records = dict([(k, []) for k in methods])\n",
    "all_policy = dict([(k, []) for k in methods])\n",
    "valid_policy = dict([(k, []) for k in methods])\n",
    "\n",
    "for method in methods:\n",
    "    user_item_records = sorted(os.listdir(os.path.join(dir, method)))\n",
    "    \n",
    "    for user_item_record in user_item_records:\n",
    "        if 'metric' in user_item_record:\n",
    "            valid_records[method].append(user_item_record)\n",
    "            file_dir = os.path.join(dir, method, user_item_record)\n",
    "            \n",
    "            with open(file_dir, 'r') as f:\n",
    "                lines = f.readlines()\n",
    "                lines = [line.split() for line in lines]\n",
    "                lines = [[float(x) for x in line] for line in lines]\n",
    "                lines = np.array(lines)\n",
    "                all_records[method].append(lines[:, [2, 5]])\n",
    "        else:\n",
    "            valid_policy[method].append(user_item_record)\n",
    "            file_dir = os.path.join(dir, method, user_item_record)\n",
    "            with open(file_dir, 'r') as f:\n",
    "                lines = f.readlines()\n",
    "                lines = [line.split() for line in lines]\n",
    "                lines = [[float(x) for x in line] for line in lines]\n",
    "                lines = np.array(lines)\n",
    "                all_policy[method].append(lines)\n",
    "        \n",
    "\n"
   ]
  },
  {
   "cell_type": "code",
   "execution_count": 3,
   "metadata": {
    "ExecuteTime": {
     "start_time": "2023-12-23T06:38:17.156098400Z"
    }
   },
   "outputs": [],
   "source": [
    "min_loss = 0.\n",
    "for method in methods:\n",
    "    for x in all_records[method]:\n",
    "        min_loss = min(min_loss, np.min(x[:, 1]))"
   ]
  },
  {
   "cell_type": "code",
   "execution_count": 4,
   "metadata": {
    "ExecuteTime": {
     "start_time": "2023-12-23T06:38:17.158112900Z"
    }
   },
   "outputs": [],
   "source": [
    "loss_diff = 0.01\n",
    "losses = np.arange(min_loss, 0, loss_diff)"
   ]
  },
  {
   "cell_type": "code",
   "execution_count": 5,
   "metadata": {
    "ExecuteTime": {
     "start_time": "2023-12-23T06:38:17.159107300Z"
    }
   },
   "outputs": [],
   "source": [
    "num_user_item_pair = len(all_records[methods[0]])\n",
    "uplift_all = dict([(k, []) for k in methods])\n",
    "\n",
    "for i in range(num_user_item_pair):\n",
    "    for method in methods:\n",
    "        record_idx = 0\n",
    "        uplift, min_loss = all_records[method][i][0]\n",
    "        uplifts = np.zeros(len(losses))\n",
    "        for j in range(len(losses)):\n",
    "            if record_idx == 0:\n",
    "                if losses[j] <= min_loss:\n",
    "                    uplifts[j] = uplift\n",
    "                else:\n",
    "                    while losses[j] > all_records[method][i][record_idx][1]:\n",
    "                        record_idx += 1\n",
    "                    uplift_left = uplift\n",
    "                    uplift, min_loss = all_records[method][i][record_idx]\n",
    "                    uplifts[j] = uplift_left\n",
    "            else:\n",
    "                if losses[j] <= min_loss:\n",
    "                    uplifts[j] = uplift_left\n",
    "                else:\n",
    "                    while losses[j] > all_records[method][i][record_idx][1]:\n",
    "                        record_idx += 1\n",
    "                    uplift_left = uplift\n",
    "                    uplift, min_loss = all_records[method][i][record_idx]\n",
    "                    uplifts[j] = uplift_left\n",
    "        uplifts[-1], _ = all_records[method][i][-1]\n",
    "        uplift_all[method].append(uplifts)\n"
   ]
  },
  {
   "cell_type": "code",
   "execution_count": 6,
   "metadata": {
    "ExecuteTime": {
     "start_time": "2023-12-23T06:38:17.160103400Z"
    }
   },
   "outputs": [
    {
     "data": {
      "text/plain": [
       "<matplotlib.legend.Legend at 0x7f6a2806e670>"
      ]
     },
     "execution_count": 6,
     "metadata": {},
     "output_type": "execute_result"
    },
    {
     "name": "stderr",
     "output_type": "stream",
     "text": [
      "findfont: Font family ['Times New Roman'] not found. Falling back to DejaVu Sans.\n"
     ]
    },
    {
     "data": {
      "image/png": "[encoded data removed]",
      "text/plain": [
       "<Figure size 432x360 with 1 Axes>"
      ]
     },
     "metadata": {
      "needs_background": "light"
     },
     "output_type": "display_data"
    }
   ],
   "source": [
    "# set font \n",
    "plt.rcParams[\"font.family\"] = \"Times New Roman\"\n",
    "model_name={'spill_groundtruth':'Oracle', 'spill_simulation_mf':'Sim MF', 'spill_simulation_diffnet':'Sim DiffNet', 'spill_mf':'Direct MF', 'spill_diffnet':'Direct DiffNet', 'spill_gatv2_spill_var2':'NeSRecF'}\n",
    "plt.figure(figsize=(6, 5))\n",
    "for method in methods:\n",
    "    # if method == 'groundtruth':\n",
    "    #     continue\n",
    "    plt.plot(-losses, np.mean(uplift_all[method], axis=0), label=model_name[method])\n",
    "plt.xlabel('DtNE')\n",
    "plt.ylabel('IoIP')\n",
    "# set x range\n",
    "plt.xlim(0, 60)\n",
    "plt.ylim(-0.2, 0.6)\n",
    "# set the position of the legend\n",
    "plt.legend(loc='upper right', bbox_to_anchor=(0.93, 1.17), ncol=3)\n"
   ]
  }
 ],
 "metadata": {
  "kernelspec": {
   "display_name": "Python 3",
   "language": "python",
   "name": "python3"
  },
  "language_info": {
   "codemirror_mode": {
    "name": "ipython",
    "version": 3
   },
   "file_extension": ".py",
   "mimetype": "text/x-python",
   "name": "python",
   "nbconvert_exporter": "python",
   "pygments_lexer": "ipython3",
   "version": "3.8.8"
  }
 },
 "nbformat": 4,
 "nbformat_minor": 4
}
